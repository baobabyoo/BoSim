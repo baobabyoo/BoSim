{
 "cells": [
  {
   "cell_type": "markdown",
   "metadata": {},
   "source": [
    "# A python script to sum flux from FITS image and output as figure"
   ]
  },
  {
   "cell_type": "markdown",
   "metadata": {},
   "source": [
    "## importing packages"
   ]
  },
  {
   "cell_type": "code",
   "execution_count": 156,
   "metadata": {},
   "outputs": [
    {
     "name": "stderr",
     "output_type": "stream",
     "text": [
      "/scratch/home/hlu/astronomical_softwares/python/anaconda3/envs/learningPython3/lib/python3.6/site-packages/matplotlib/__init__.py:1405: UserWarning: \n",
      "This call to matplotlib.use() has no effect because the backend has already\n",
      "been chosen; matplotlib.use() must be called *before* pylab, matplotlib.pyplot,\n",
      "or matplotlib.backends is imported for the first time.\n",
      "\n",
      "  warnings.warn(_use_error_msg)\n"
     ]
    }
   ],
   "source": [
    "%matplotlib inline\n",
    "\n",
    "import os\n",
    "import sys\n",
    "sys.path.append('./')\n",
    "\n",
    "import math\n",
    "import numpy as np\n",
    "from numpy import size\n",
    "\n",
    "import matplotlib\n",
    "import matplotlib.pyplot as plt\n",
    "from matplotlib.colors import BoundaryNorm\n",
    "from matplotlib.ticker import MaxNLocator\n",
    "matplotlib.use('PDF')\n",
    "\n",
    "from astropy.io import fits\n",
    "from astropy.io.fits import getdata"
   ]
  },
  {
   "cell_type": "markdown",
   "metadata": {},
   "source": [
    "## Setting parameters"
   ]
  },
  {
   "cell_type": "markdown",
   "metadata": {},
   "source": [
    "### Creating dictionaries for parameters and data"
   ]
  },
  {
   "cell_type": "code",
   "execution_count": 157,
   "metadata": {},
   "outputs": [],
   "source": [
    "# DO NOT EDIT THIS BLOCK\n",
    "FITSpath_dict      = {}  # directories for FITS images\n",
    "asciiname_dict     = {}  # output ascii filenames\n",
    "outfig_dict        = {}  # output figure filenames\n",
    "fluxdata_dict      = {}  # array of summed flux\n",
    "frequencydata_dict = {}  # array of frequency\n",
    "inclin_dict        = {}  # array of inclination angle"
   ]
  },
  {
   "cell_type": "markdown",
   "metadata": {},
   "source": [
    "### After running this script, data can be accessed by typing, for example\n",
    "print ( fluxdata_dict['sim1'] )\n",
    "\n",
    "print ( frequencydata_dict['sim1'] )"
   ]
  },
  {
   "cell_type": "code",
   "execution_count": 158,
   "metadata": {},
   "outputs": [],
   "source": [
    "# data to process\n",
    "data_to_process = [\n",
    "                   'sim1',\n",
    "                   'sim2'\n",
    "                  ]\n",
    "\n",
    "# Define data path and output figure names for each set of simulations\n",
    "sim_id = 'sim1'\n",
    "FITSpath_dict[sim_id]  = './FITS1/'\n",
    "outfig_dict[sim_id]    = sim_id + '.pdf'\n",
    "asciiname_dict[sim_id] = sim_id + '.txt'\n",
    "\n",
    "sim_id = 'sim2'\n",
    "FITSpath_dict[sim_id] = './FITS2/'\n",
    "outfig_dict[sim_id]   = sim_id + '.pdf'\n",
    "asciiname_dict[sim_id] = sim_id + '.txt'\n",
    "\n",
    "# keywords adapting to specific systems of FITS headers\n",
    "freqheaditem = 'restfrq'"
   ]
  },
  {
   "cell_type": "markdown",
   "metadata": {},
   "source": [
    "## Steps to execute"
   ]
  },
  {
   "cell_type": "code",
   "execution_count": 159,
   "metadata": {},
   "outputs": [],
   "source": [
    "# Steps to execute\n",
    "mysteps = [0, 1, 2]"
   ]
  },
  {
   "cell_type": "markdown",
   "metadata": {},
   "source": [
    "## Defining flows"
   ]
  },
  {
   "cell_type": "code",
   "execution_count": 160,
   "metadata": {},
   "outputs": [
    {
     "name": "stdout",
     "output_type": "stream",
     "text": [
      "List of steps to be executed ... [0, 1, 2]\n"
     ]
    }
   ],
   "source": [
    "thesteps = []\n",
    "step_title = {\n",
    "              0: 'Collect file names and sum fluxes',\n",
    "              1: 'ascii output',\n",
    "              2: 'Generating figures and output PDF',\n",
    "             }\n",
    "\n",
    "try:\n",
    "  print ('List of steps to be executed ...', mysteps)\n",
    "  thesteps = mysteps\n",
    "except:\n",
    "  print ('global variable mysteps not set.')\n",
    "if (thesteps==[]):\n",
    "  thesteps = range(0,len(step_title))\n",
    "  print ('Executing all steps: ', thesteps)\n",
    "\n",
    "\n",
    "# Not actually producing images in debug mode -------------------\n",
    "debug = True\n"
   ]
  },
  {
   "cell_type": "markdown",
   "metadata": {},
   "source": [
    "### Collecting FITS files and sum fluxes from them.\n",
    "#### There is no true information about inclination collected yet"
   ]
  },
  {
   "cell_type": "code",
   "execution_count": 161,
   "metadata": {},
   "outputs": [
    {
     "name": "stdout",
     "output_type": "stream",
     "text": [
      "Step  0 Collect file names and sum fluxes\n",
      "\n",
      "\n",
      "Data to process:  sim1\n",
      "FITS image name : g33p92.3p.rob2.image.fits\n",
      "Pixel brightness unit : Jy/beam\n",
      "FITS image name : g33p92.3p.rob0.image.fits\n",
      "Pixel brightness unit : Jy/beam\n",
      "*Results:\n",
      " flux: [27.143118, 34.097103] \n",
      " frequency: [231220690000.0, 231220690000.0] \n",
      "inclination: [0.0, 0.0]\n",
      "\n",
      "\n",
      "Data to process:  sim2\n",
      "FITS image name : g33p92.3p.rob2.image.pbcor.fits\n",
      "Pixel brightness unit : Jy/beam\n",
      "FITS image name : g33p92.3p.rob0.image.pbcor.fits\n",
      "Pixel brightness unit : Jy/beam\n",
      "*Results:\n",
      " flux: [-745.03455, -229.60609] \n",
      " frequency: [231220690000.0, 231220690000.0] \n",
      "inclination: [0.0, 0.0]\n",
      "\n",
      "\n"
     ]
    }
   ],
   "source": [
    "# collecting FITS filenames\n",
    "mystep = 0\n",
    "\n",
    "if(mystep in thesteps):\n",
    "  print ('Step ', mystep, step_title[mystep])\n",
    "  print ('\\n')\n",
    "\n",
    "  # iterating over individual simulation data to process\n",
    "  for data in data_to_process:\n",
    "\n",
    "    print ( 'Data to process: ', data )\n",
    "    FITSpath  = FITSpath_dict[data]\n",
    "    FITSs     = os.listdir( FITSpath )\n",
    "    fluxdata_dict[data]      = []\n",
    "    frequencydata_dict[data] = []\n",
    "    inclin_dict[data]        = []\n",
    "\n",
    "    # iterating over individual FITS image under each simulation\n",
    "    for FITS_id in range( len(FITSs) ):\n",
    "       print ( 'FITS image name :', FITSs[FITS_id] )\n",
    "    \n",
    "       # open FITS image\n",
    "       # reading header information\n",
    "       hdulist = fits.open( FITSpath + FITSs[FITS_id] )\n",
    "\n",
    "       # obtain header parameter\n",
    "       naxis1    = hdulist[0].header['naxis1']\n",
    "       naxis2    = hdulist[0].header['naxis2']\n",
    "       bunit     = hdulist[0].header['bunit']\n",
    "       frequency = hdulist[0].header[freqheaditem]\n",
    "       hdulist.close()\n",
    "    \n",
    "       # make sure that the flux unit is 'Jy/pixel'\n",
    "       print ( 'Pixel brightness unit :', bunit )\n",
    "        \n",
    "        \n",
    "       # Loading FITS images\n",
    "       rawimage, hd     = getdata(\n",
    "                                  FITSpath + FITSs[FITS_id], \n",
    "                                  header=True\n",
    "                                 )\n",
    "       image = rawimage[:][:][0][0]\n",
    "       flux  = np.nansum( image )\n",
    "    \n",
    "       # append the flux measurements to the data array\n",
    "       fluxdata_dict[data].append( flux  )\n",
    "       frequencydata_dict[data].append( frequency )    \n",
    "       inclin_dict[data].append( 0.0 )\n",
    "       \n",
    "    \n",
    "    print( '*Results:\\n',\n",
    "              'flux:', fluxdata_dict[data], '\\n',  \n",
    "              'frequency:', frequencydata_dict[data], '\\n'\n",
    "              'inclination:', inclin_dict[data]\n",
    "            )\n",
    "        \n",
    "    print ( '\\n')"
   ]
  },
  {
   "cell_type": "markdown",
   "metadata": {},
   "source": [
    "### Generating ascii output. Columns are: frequency (Hz), flux (Jy), inclination (deg)"
   ]
  },
  {
   "cell_type": "code",
   "execution_count": 162,
   "metadata": {},
   "outputs": [
    {
     "name": "stdout",
     "output_type": "stream",
     "text": [
      "Step  1 ascii output\n",
      "\n",
      "\n"
     ]
    }
   ],
   "source": [
    "# ascii output\n",
    "mystep = 1\n",
    "\n",
    "if(mystep in thesteps):\n",
    "  print ('Step ', mystep, step_title[mystep])\n",
    "  print ('\\n')\n",
    "\n",
    "  # iterating over individual simulation data to process\n",
    "  for data in data_to_process:\n",
    "        \n",
    "        file = open(asciiname_dict[data], \"w\")\n",
    "        file.write(\"# Freq_Hz Flux_Jy Inclination_deg \\n\" )\n",
    "        \n",
    "        for data_id in range( size(frequencydata_dict[data]) ):\n",
    "            outstring = str( frequencydata_dict[data][data_id] ) + ' ' \\\n",
    "                      + str( fluxdata_dict[data][data_id]      ) + ' ' \\\n",
    "                      + str( inclin_dict[data][data_id]        ) + '\\n'\n",
    "            file.write(outstring)\n",
    "        \n",
    "        file.close()"
   ]
  },
  {
   "cell_type": "markdown",
   "metadata": {},
   "source": [
    "### Generating figures and output in PDF"
   ]
  },
  {
   "cell_type": "code",
   "execution_count": 163,
   "metadata": {},
   "outputs": [
    {
     "name": "stdout",
     "output_type": "stream",
     "text": [
      "Step  2 Generating figures and output PDF\n",
      "\n",
      "\n"
     ]
    },
    {
     "name": "stderr",
     "output_type": "stream",
     "text": [
      "/scratch/home/hlu/astronomical_softwares/python/anaconda3/envs/learningPython3/lib/python3.6/site-packages/matplotlib/axes/_axes.py:545: UserWarning: No labelled objects found. Use label='...' kwarg on individual plots.\n",
      "  warnings.warn(\"No labelled objects found. \"\n"
     ]
    },
    {
     "data": {
      "image/png": "[encoded data removed]",
      "text/plain": [
       "<matplotlib.figure.Figure at 0x7efbf4978a20>"
      ]
     },
     "metadata": {},
     "output_type": "display_data"
    },
    {
     "data": {
      "image/png": "[encoded data removed]",
      "text/plain": [
       "<matplotlib.figure.Figure at 0x7efbf3f213c8>"
      ]
     },
     "metadata": {},
     "output_type": "display_data"
    }
   ],
   "source": [
    "# PDF output\n",
    "mystep = 2\n",
    "\n",
    "if(mystep in thesteps):\n",
    "  print ('Step ', mystep, step_title[mystep])\n",
    "  print ('\\n')\n",
    "\n",
    "  # iterating over individual simulation data to process\n",
    "  for data in data_to_process:\n",
    "        \n",
    "  ###### Initializing Figure #############################\n",
    "    fig = plt.figure(\n",
    "                     figsize = (8, 8)\n",
    "                     )\n",
    "    ax0 = fig.add_axes([0.12, 0.1, 0.75, 0.75])\n",
    "\n",
    "    # Set the x/y axis title and legend\n",
    "    plt.xlabel('Frequency [Hz]', size = 14.0)\n",
    "    plt.ylabel('Flux (Jy)',      size = 14.0)\n",
    "    plt.title(' %s' %( data ), \\\n",
    "                                 size = 14.0\n",
    "                                            )\n",
    "    plt.xscale('log')\n",
    "    plt.legend(loc=4, fontsize=12)\n",
    "\n",
    "\n",
    "    # Ajusting formats\n",
    "    SMALL_SIZE = 12\n",
    "    MEDIUM_SIZE = 20\n",
    "    BIGGER_SIZE = 30\n",
    "\n",
    "    plt.rc('font', size=SMALL_SIZE)          # controls default text sizes\n",
    "    plt.rc('xtick', labelsize=SMALL_SIZE)    # fontsize of the tick labels\n",
    "    plt.rc('ytick', labelsize=SMALL_SIZE)    # fontsize of the tick labels\n",
    "\n",
    "    freq = np.array(frequencydata_dict[data])\n",
    "    flux = np.array(fluxdata_dict[data])\n",
    "    \n",
    "    plt.plot( \n",
    "             freq, \n",
    "             flux,\n",
    "             'o',\n",
    "             markersize = 20,\n",
    "             color = (0.2, 0.2, 0.2, 0.9)\n",
    "             )\n",
    "    \n",
    "    plt.savefig(outfig_dict[data], \n",
    "                transparent = True\n",
    "                )"
   ]
  },
  {
   "cell_type": "code",
   "execution_count": null,
   "metadata": {},
   "outputs": [],
   "source": []
  }
 ],
 "metadata": {
  "kernelspec": {
   "display_name": "Python 3",
   "language": "python",
   "name": "python3"
  },
  "language_info": {
   "codemirror_mode": {
    "name": "ipython",
    "version": 3
   },
   "file_extension": ".py",
   "mimetype": "text/x-python",
   "name": "python",
   "nbconvert_exporter": "python",
   "pygments_lexer": "ipython3",
   "version": "3.6.2"
  }
 },
 "nbformat": 4,
 "nbformat_minor": 2
}
